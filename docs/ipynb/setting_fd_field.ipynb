{
 "cells": [
  {
   "cell_type": "markdown",
   "metadata": {},
   "source": [
    "# Tutorial: Setting the finite difference field value"
   ]
  },
  {
   "cell_type": "markdown",
   "metadata": {},
   "source": [
    "In this tutorial, we demonstrate different ways of setting the FD field values.\n",
    "\n",
    "Firstly, we import the required OOMMFField class."
   ]
  },
  {
   "cell_type": "code",
   "execution_count": 1,
   "metadata": {
    "collapsed": true
   },
   "outputs": [],
   "source": [
    "from oommffield import OOMMFField"
   ]
  },
  {
   "cell_type": "markdown",
   "metadata": {},
   "source": [
    "We create a three-dimansional vector field with domain that spans between:\n",
    "\n",
    "- minimum coordinate $c_\\text{min} = (1, 1, 1)$ and\n",
    "- maximum coordinate $c_\\text{max} = (10, 6, 9)$,\n",
    "\n",
    "with discretisation $d = (1, 1, 1)$."
   ]
  },
  {
   "cell_type": "code",
   "execution_count": 2,
   "metadata": {
    "collapsed": true
   },
   "outputs": [],
   "source": [
    "cmin = (1, 1, 1)\n",
    "cmax = (10, 6, 9)\n",
    "d = (1, 1, 1)\n",
    "dim = 3"
   ]
  },
  {
   "cell_type": "markdown",
   "metadata": {},
   "source": [
    "After all the parameters are specified, we can create a field and give it a name."
   ]
  },
  {
   "cell_type": "code",
   "execution_count": 3,
   "metadata": {
    "collapsed": true
   },
   "outputs": [],
   "source": [
    "field = OOMMFField(cmin, cmax, d, dim=dim, name='fdfield')"
   ]
  },
  {
   "cell_type": "markdown",
   "metadata": {},
   "source": [
    "As it was shown in the previous tutorial, if we do not specify the field value, it is initialised as zero-field."
   ]
  },
  {
   "cell_type": "code",
   "execution_count": 4,
   "metadata": {
    "collapsed": false
   },
   "outputs": [
    {
     "data": {
      "text/plain": [
       "True"
      ]
     },
     "execution_count": 4,
     "metadata": {},
     "output_type": "execute_result"
    }
   ],
   "source": [
    "(field.f == 0).all()"
   ]
  },
  {
   "cell_type": "markdown",
   "metadata": {},
   "source": [
    "## Setting using float/int\n",
    "\n",
    "We can set the field value using a single float/int value. In this case all components of the vector field will be the same at all FD field discretisation points."
   ]
  },
  {
   "cell_type": "code",
   "execution_count": 5,
   "metadata": {
    "collapsed": true
   },
   "outputs": [],
   "source": [
    "value = 3\n",
    "\n",
    "field.set(value)"
   ]
  },
  {
   "cell_type": "markdown",
   "metadata": {},
   "source": [
    "This can be checked using:"
   ]
  },
  {
   "cell_type": "code",
   "execution_count": 6,
   "metadata": {
    "collapsed": false
   },
   "outputs": [
    {
     "data": {
      "text/plain": [
       "True"
      ]
     },
     "execution_count": 6,
     "metadata": {},
     "output_type": "execute_result"
    }
   ],
   "source": [
    "(field.f == 3).all()"
   ]
  },
  {
   "cell_type": "code",
   "execution_count": 7,
   "metadata": {
    "collapsed": false
   },
   "outputs": [
    {
     "data": {
      "text/plain": [
       "[3.0, 3.0, 3.0]"
      ]
     },
     "execution_count": 7,
     "metadata": {},
     "output_type": "execute_result"
    }
   ],
   "source": [
    "field.average()"
   ]
  },
  {
   "cell_type": "markdown",
   "metadata": {},
   "source": [
    "## Setting using list/tuple\n",
    "\n",
    "If the FD field value is specified using a tuple, list, or numpy array, all compoenents of the vector field must be specified separately."
   ]
  },
  {
   "cell_type": "code",
   "execution_count": 8,
   "metadata": {
    "collapsed": false
   },
   "outputs": [],
   "source": [
    "value = (1, -2, 3.5)\n",
    "field.set(value)"
   ]
  },
  {
   "cell_type": "code",
   "execution_count": 9,
   "metadata": {
    "collapsed": false
   },
   "outputs": [
    {
     "data": {
      "text/plain": [
       "True"
      ]
     },
     "execution_count": 9,
     "metadata": {},
     "output_type": "execute_result"
    }
   ],
   "source": [
    "(field.f[:, :, :, 0] == 1).all() and \\\n",
    "(field.f[:, :, :, 1] == -2).all() and \\\n",
    "(field.f[:, :, :, 2] == 3.5).all()"
   ]
  },
  {
   "cell_type": "code",
   "execution_count": 10,
   "metadata": {
    "collapsed": false
   },
   "outputs": [
    {
     "data": {
      "text/plain": [
       "[1.0, -2.0, 3.5]"
      ]
     },
     "execution_count": 10,
     "metadata": {},
     "output_type": "execute_result"
    }
   ],
   "source": [
    "field.average()"
   ]
  },
  {
   "cell_type": "markdown",
   "metadata": {},
   "source": [
    "## Setting using Python function\n",
    "\n",
    "So far, we set the FD field value to be constant - space invariant. Now, using a Python function, we set the field value using a Python function.\n",
    "\n",
    "Python function should have a single argument which is a tuple of coordinates (x, y, z) and returns the tuple of an appropriate dimension for the field whose value we set.\n",
    "\n",
    "If we want to set the field value so that:\n",
    "\n",
    "$$f(x, y, z) = (2x, 2y+x, x+z)$$"
   ]
  },
  {
   "cell_type": "code",
   "execution_count": 11,
   "metadata": {
    "collapsed": true
   },
   "outputs": [],
   "source": [
    "def value(pos):\n",
    "    x, y, z = pos\n",
    "    \n",
    "    fx = 2*x\n",
    "    fy = 2*y + x\n",
    "    fz = x+z\n",
    "    \n",
    "    return (fx, fy, fz)\n",
    "\n",
    "field.set(value)"
   ]
  },
  {
   "cell_type": "markdown",
   "metadata": {},
   "source": [
    "Knowing the field values, we expect that the field value at point (1.5, 2.5, 3.5) should be:\n",
    "\n",
    "$$f(1.5, 2.5, 3.5) = (3, 6.5, 5)$$\n",
    "\n",
    "If we sample the field at that point we get:"
   ]
  },
  {
   "cell_type": "code",
   "execution_count": 12,
   "metadata": {
    "collapsed": false
   },
   "outputs": [
    {
     "name": "stdout",
     "output_type": "stream",
     "text": [
      "[ 3.   6.5  5. ]\n"
     ]
    }
   ],
   "source": [
    "c = (1.5, 2.5, 3.5)\n",
    "print field(c)"
   ]
  }
 ],
 "metadata": {
  "kernelspec": {
   "display_name": "Python 2",
   "language": "python",
   "name": "python2"
  },
  "language_info": {
   "codemirror_mode": {
    "name": "ipython",
    "version": 2
   },
   "file_extension": ".py",
   "mimetype": "text/x-python",
   "name": "python",
   "nbconvert_exporter": "python",
   "pygments_lexer": "ipython2",
   "version": "2.7.6"
  }
 },
 "nbformat": 4,
 "nbformat_minor": 0
}
